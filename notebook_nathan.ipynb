{
 "cells": [
  {
   "cell_type": "code",
   "execution_count": 30,
   "metadata": {},
   "outputs": [],
   "source": [
    "from jsonpath_ng import jsonpath, parse # key search with expressions\n",
    "import orjson # faster, deserializes true to python-friendly True\n",
    "\n",
    "msg_txt = '''{\n",
    "    \"Message\": {\n",
    "        \"DataLinkManagementMessage\": {\n",
    "            \"PositionAccuracy\": {\n",
    "                \"0\": {\n",
    "                    \"Increment\": 750,\n",
    "                    \"Offset\": 784,\n",
    "                    \"TimeOut\": 7,\n",
    "                    \"Valid\": false,\n",
    "                    \"integerOfSlots\": 1\n",
    "                },\n",
    "                \"1\": {\n",
    "                    \"Increment\": 1125,\n",
    "                    \"Offset\": 1125,\n",
    "                    \"TimeOut\": 7,\n",
    "                    \"Valid\": false,\n",
    "                    \"integerOfSlots\": 1\n",
    "                },\n",
    "                \"2\": {\n",
    "                    \"Increment\": 0,\n",
    "                    \"Offset\": 793,\n",
    "                    \"TimeOut\": 7,\n",
    "                    \"Valid\": false,\n",
    "                    \"integerOfSlots\": 1\n",
    "                },\n",
    "                \"3\": {\n",
    "                    \"Increment\": 750,\n",
    "                    \"Offset\": 1400,\n",
    "                    \"TimeOut\": 7,\n",
    "                    \"Valid\": false,\n",
    "                    \"integerOfSlots\": 3\n",
    "                }\n",
    "            },\n",
    "            \"MessageID\": 20,\n",
    "            \"RepeatIndicator\": 0,\n",
    "            \"Spare\": 0,\n",
    "            \"UserID\": 2611270,\n",
    "            \"Valid\": true\n",
    "        }\n",
    "    },\n",
    "    \"MessageType\": \"DataLinkManagementMessage\",\n",
    "    \"MetaData\": {\n",
    "        \"MMSI\": 2611270,\n",
    "        \"MMSI_String\": 2611270,\n",
    "        \"ShipName\": \"\",\n",
    "        \"latitude\": 53.43711333333333,\n",
    "        \"longitude\": 14.583969999999999,\n",
    "        \"time_utc\": \"2024-08-18 23:08:39.819206114 +0000 UTC\"\n",
    "    }\n",
    "}'''\n"
   ]
  },
  {
   "cell_type": "code",
   "execution_count": 31,
   "metadata": {},
   "outputs": [
    {
     "data": {
      "text/plain": [
       "{'Message': {'DataLinkManagementMessage': {'PositionAccuracy': {'0': {'Increment': 750,\n",
       "     'Offset': 784,\n",
       "     'TimeOut': 7,\n",
       "     'Valid': False,\n",
       "     'integerOfSlots': 1},\n",
       "    '1': {'Increment': 1125,\n",
       "     'Offset': 1125,\n",
       "     'TimeOut': 7,\n",
       "     'Valid': False,\n",
       "     'integerOfSlots': 1},\n",
       "    '2': {'Increment': 0,\n",
       "     'Offset': 793,\n",
       "     'TimeOut': 7,\n",
       "     'Valid': False,\n",
       "     'integerOfSlots': 1},\n",
       "    '3': {'Increment': 750,\n",
       "     'Offset': 1400,\n",
       "     'TimeOut': 7,\n",
       "     'Valid': False,\n",
       "     'integerOfSlots': 3}},\n",
       "   'MessageID': 20,\n",
       "   'RepeatIndicator': 0,\n",
       "   'Spare': 0,\n",
       "   'UserID': 2611270,\n",
       "   'Valid': True}},\n",
       " 'MessageType': 'DataLinkManagementMessage',\n",
       " 'MetaData': {'MMSI': 2611270,\n",
       "  'MMSI_String': 2611270,\n",
       "  'ShipName': '',\n",
       "  'latitude': 53.43711333333333,\n",
       "  'longitude': 14.583969999999999,\n",
       "  'time_utc': '2024-08-18 23:08:39.819206114 +0000 UTC'}}"
      ]
     },
     "execution_count": 31,
     "metadata": {},
     "output_type": "execute_result"
    }
   ],
   "source": [
    "import orjson as json \n",
    "\n",
    "x = json.loads(msg_txt)\n",
    "x"
   ]
  },
  {
   "cell_type": "code",
   "execution_count": 32,
   "metadata": {},
   "outputs": [],
   "source": [
    "accuracy = False\n",
    "\n",
    "jsonpath_expr = parse('$..PositionAccuracy')\n",
    "\n",
    "matches = jsonpath_expr.find(x['Message'])\n",
    "if not matches:\n",
    "    accuracy = False\n",
    "else:\n",
    "    try:\n",
    "        accuracy = bool(matches[0])\n",
    "    except:\n",
    "        accuracy = False"
   ]
  },
  {
   "cell_type": "code",
   "execution_count": 33,
   "metadata": {},
   "outputs": [
    {
     "data": {
      "text/plain": [
       "True"
      ]
     },
     "execution_count": 33,
     "metadata": {},
     "output_type": "execute_result"
    }
   ],
   "source": [
    "accuracy"
   ]
  },
  {
   "cell_type": "code",
   "execution_count": 35,
   "metadata": {},
   "outputs": [
    {
     "name": "stdout",
     "output_type": "stream",
     "text": [
      "S2 Cell ID: CellId: 47b1917000000000\n",
      "Center Latitude/Longitude: (53.43731868183478, 10.003187503541543)\n"
     ]
    }
   ],
   "source": [
    "import s2sphere\n",
    "\n",
    "# Define a latitude and longitude\n",
    "latitude = 53.43711333333333\n",
    "longitude = 10.00000000000000\n",
    "\n",
    "# Convert latitude/longitude to an S2 cell ID at a specific level\n",
    "# Level 15 is roughly equivalent to 10-meter resolution\n",
    "cell_id = s2sphere.CellId.from_lat_lng(s2sphere.LatLng.from_degrees(latitude, longitude)).parent(12)\n",
    "\n",
    "# Get the latitude and longitude of the center of the S2 cell\n",
    "lat_lng_center = cell_id.to_lat_lng()\n",
    "\n",
    "print(f\"S2 Cell ID: {cell_id}\")\n",
    "print(f\"Center Latitude/Longitude: ({lat_lng_center.lat().degrees}, {lat_lng_center.lng().degrees})\")\n"
   ]
  },
  {
   "cell_type": "code",
   "execution_count": 42,
   "metadata": {},
   "outputs": [
    {
     "name": "stdout",
     "output_type": "stream",
     "text": [
      "<class 'int'>\n",
      "S2 Cell ID: 5166070156719292416\n",
      "Center Latitude/Longitude: (53.43614949323263, 10.000877345785037)\n"
     ]
    }
   ],
   "source": [
    "import s2sphere\n",
    "\n",
    "# Define a latitude and longitude\n",
    "latitude = 53.43711333333333\n",
    "longitude = 10.00000000000000\n",
    "\n",
    "# Convert latitude/longitude to an S2 cell ID at a specific level\n",
    "# Level 15 is roughly equivalent to 10-meter resolution\n",
    "cell_id = s2sphere.CellId.from_lat_lng(s2sphere.LatLng.from_degrees(latitude, longitude)).parent(15)\n",
    "\n",
    "# Get the latitude and longitude of the center of the S2 cell\n",
    "lat_lng_center = cell_id.to_lat_lng()\n",
    "\n",
    "print(type(cell_id.id()))\n",
    "\n",
    "print(f\"S2 Cell ID: {cell_id.id()}\")\n",
    "print(f\"Center Latitude/Longitude: ({lat_lng_center.lat().degrees}, {lat_lng_center.lng().degrees})\")\n"
   ]
  },
  {
   "cell_type": "code",
   "execution_count": 38,
   "metadata": {},
   "outputs": [
    {
     "name": "stdout",
     "output_type": "stream",
     "text": [
      "H3 Index at resolution 8: 881f153199fffff\n",
      "Center of H3 cell: Latitude = 53.43873858800169, Longitude = 9.999987749926106\n"
     ]
    }
   ],
   "source": [
    "import h3\n",
    "\n",
    "# Define the latitude and longitude\n",
    "latitude = 53.43711333333333\n",
    "longitude = 10.00000000000000\n",
    "\n",
    "# Convert latitude/longitude to an H3 index at resolution 8\n",
    "resolution = 8\n",
    "h3_450m_res8_hex = h3.geo_to_h3(latitude, longitude, resolution)\n",
    "\n",
    "# Convert the H3 index back to latitude/longitude to get the center of the H3 cell\n",
    "center_lat, center_lon = h3.h3_to_geo(h3_index)\n",
    "\n",
    "# Output the H3 index and the center coordinates\n",
    "print(f\"H3 Index at resolution {resolution}: {h3_index}\")\n",
    "print(f\"Center of H3 cell: Latitude = {center_lat}, Longitude = {center_lon}\")"
   ]
  },
  {
   "cell_type": "code",
   "execution_count": null,
   "metadata": {},
   "outputs": [],
   "source": [
    "h3_450m_res8_hex # resolution 8 \n",
    "s2_610m_lvl14_sphere # level 14\n",
    "\n",
    "\n",
    "\n",
    "\n",
    "\n",
    "s2 # better for irregular geography, political areas, eezs, etc\n",
    "h3 # better for visualization and traversing edges\n"
   ]
  },
  {
   "cell_type": "code",
   "execution_count": 11,
   "metadata": {},
   "outputs": [
    {
     "data": {
      "text/plain": [
       "{'PositionReport_Cog': 360,\n",
       " 'PositionReport_CommunicationState': 59916,\n",
       " 'PositionReport_Latitude': 52.54254666666667,\n",
       " 'PositionReport_Longitude': 6.13149,\n",
       " 'PositionReport_MessageID': 3,\n",
       " 'PositionReport_NavigationalStatus': 5,\n",
       " 'PositionReport_PositionAccuracy': True,\n",
       " 'PositionReport_Raim': True,\n",
       " 'PositionReport_RateOfTurn': -128,\n",
       " 'PositionReport_RepeatIndicator': 0,\n",
       " 'PositionReport_Sog': 0,\n",
       " 'PositionReport_Spare': 0,\n",
       " 'PositionReport_SpecialManoeuvreIndicator': 0,\n",
       " 'PositionReport_Timestamp': 15,\n",
       " 'PositionReport_TrueHeading': 511,\n",
       " 'PositionReport_UserID': 244317268,\n",
       " 'PositionReport_Valid': True}"
      ]
     },
     "execution_count": 11,
     "metadata": {},
     "output_type": "execute_result"
    }
   ],
   "source": [
    "from flatten_json import flatten\n",
    "import orjson\n",
    "\n",
    "json = orjson.loads('''\n",
    "{\n",
    "    \"Message\": {\n",
    "        \"PositionReport\": {\n",
    "            \"Cog\": 360,\n",
    "            \"CommunicationState\": 59916,\n",
    "            \"Latitude\": 52.54254666666667,\n",
    "            \"Longitude\": 6.13149,\n",
    "            \"MessageID\": 3,\n",
    "            \"NavigationalStatus\": 5,\n",
    "            \"PositionAccuracy\": true,\n",
    "            \"Raim\": true,\n",
    "            \"RateOfTurn\": -128,\n",
    "            \"RepeatIndicator\": 0,\n",
    "            \"Sog\": 0,\n",
    "            \"Spare\": 0,\n",
    "            \"SpecialManoeuvreIndicator\": 0,\n",
    "            \"Timestamp\": 15,\n",
    "            \"TrueHeading\": 511,\n",
    "            \"UserID\": 244317268,\n",
    "            \"Valid\": true\n",
    "        }\n",
    "    },\n",
    "    \"MessageType\": \"PositionReport\",\n",
    "    \"MetaData\": {\n",
    "        \"MMSI\": 244317268,\n",
    "        \"MMSI_String\": 244317268,\n",
    "        \"ShipName\": \"VERTROUWEN\",\n",
    "        \"latitude\": 52.54254666666667,\n",
    "        \"longitude\": 6.13149,\n",
    "        \"time_utc\": \"2024-08-19 17:50:16.632756341 +0000 UTC\"\n",
    "    }\n",
    "}\n",
    "''')\n",
    "\n",
    "flatten(json['Message'])\n"
   ]
  },
  {
   "cell_type": "markdown",
   "metadata": {},
   "source": []
  },
  {
   "cell_type": "code",
   "execution_count": 27,
   "metadata": {},
   "outputs": [
    {
     "name": "stdout",
     "output_type": "stream",
     "text": [
      "2024-08-19 17:46:57.481183+10:00\n",
      "1724053617.481183\n",
      "2024-08-19T17:46:57.481183+10:00\n"
     ]
    }
   ],
   "source": [
    "from dateutil import parser\n",
    "\n",
    "# date_string = \"2024-08-19 17:46:57.481183349 +0000 UTC\"\n",
    "date_string = \"2024-08-19 17:46:57.481183256 +1000 UTC\"\n",
    "\n",
    "# Remove the +0000 UTC part of the string\n",
    "date_string = date_string[:-4]\n",
    "\n",
    "\n",
    "print(dt)\n",
    "\n",
    "print(dt.timestamp())\n",
    "print(dt.isoformat())"
   ]
  },
  {
   "cell_type": "code",
   "execution_count": 23,
   "metadata": {},
   "outputs": [
    {
     "name": "stdout",
     "output_type": "stream",
     "text": [
      "2024-08-19T11:46:57.481183\n",
      "2024-08-19T16:46:57.481183+00:00\n",
      "2024-08-19 16:46:57.481183 +0000 UTC\n"
     ]
    }
   ],
   "source": [
    "from datetime import datetime, timezone\n",
    "\n",
    "# Given Unix timestamp\n",
    "timestamp = 1724086017.481183\n",
    "dt = datetime.fromtimestamp(timestamp)\n",
    "print(dt.isoformat())\n",
    "# Convert to datetime in UTC\n",
    "dt_utc = datetime.fromtimestamp(timestamp, tz=timezone.utc)\n",
    "print(dt_utc.isoformat())\n",
    "# Format the datetime to \"YYYY-MM-DD HH:MM:SS.ssssss +0000 UTC\"\n",
    "formatted_date_time = dt_utc.strftime('%Y-%m-%d %H:%M:%S.%f %z UTC')\n",
    "\n",
    "print(formatted_date_time)"
   ]
  },
  {
   "cell_type": "code",
   "execution_count": 3,
   "metadata": {},
   "outputs": [],
   "source": [
    "import redis \n",
    "\n",
    "# Initialize Redis client\n",
    "redis_client = redis.StrictRedis(host='localhost', port=6379, db=0)\n"
   ]
  },
  {
   "cell_type": "code",
   "execution_count": 4,
   "metadata": {},
   "outputs": [],
   "source": [
    "def update_redis(mmsi, latitude, longitude):\n",
    "    # Define the key\n",
    "    key = f\"mmsi:{mmsi}\"\n",
    "    \n",
    "    # Define the value (e.g., a serialized JSON or just the position tuple)\n",
    "    value = {\"latitude\": latitude, \"longitude\": longitude}\n",
    "    \n",
    "    # Update Redis with the new position\n",
    "    redis_client.set(key, str(value))\n",
    "    \n",
    "update_redis(\"211555420\",53.52746,8.56646)"
   ]
  },
  {
   "cell_type": "code",
   "execution_count": 7,
   "metadata": {},
   "outputs": [
    {
     "data": {
      "text/plain": [
       "\"{'latitude': 53.52746, 'longitude': 8.56646}\""
      ]
     },
     "execution_count": 7,
     "metadata": {},
     "output_type": "execute_result"
    }
   ],
   "source": [
    "# Read a value from Redis\n",
    "value = redis_client.get(f\"mmsi:211555420\")\n",
    "\n",
    "# Decode the value from bytes to string (optional)\n",
    "if value is not None:\n",
    "    value = value.decode('utf-8')\n",
    "    \n",
    "value"
   ]
  },
  {
   "cell_type": "code",
   "execution_count": null,
   "metadata": {},
   "outputs": [],
   "source": []
  }
 ],
 "metadata": {
  "kernelspec": {
   "display_name": "osint",
   "language": "python",
   "name": "python3"
  },
  "language_info": {
   "codemirror_mode": {
    "name": "ipython",
    "version": 3
   },
   "file_extension": ".py",
   "mimetype": "text/x-python",
   "name": "python",
   "nbconvert_exporter": "python",
   "pygments_lexer": "ipython3",
   "version": "3.10.14"
  }
 },
 "nbformat": 4,
 "nbformat_minor": 2
}
