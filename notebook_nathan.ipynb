{
 "cells": [
  {
   "cell_type": "code",
   "execution_count": 30,
   "metadata": {},
   "outputs": [],
   "source": [
    "from jsonpath_ng import jsonpath, parse # key search with expressions\n",
    "import orjson # faster, deserializes true to python-friendly True\n",
    "\n",
    "msg_txt = '''{\n",
    "    \"Message\": {\n",
    "        \"DataLinkManagementMessage\": {\n",
    "            \"PositionAccuracy\": {\n",
    "                \"0\": {\n",
    "                    \"Increment\": 750,\n",
    "                    \"Offset\": 784,\n",
    "                    \"TimeOut\": 7,\n",
    "                    \"Valid\": false,\n",
    "                    \"integerOfSlots\": 1\n",
    "                },\n",
    "                \"1\": {\n",
    "                    \"Increment\": 1125,\n",
    "                    \"Offset\": 1125,\n",
    "                    \"TimeOut\": 7,\n",
    "                    \"Valid\": false,\n",
    "                    \"integerOfSlots\": 1\n",
    "                },\n",
    "                \"2\": {\n",
    "                    \"Increment\": 0,\n",
    "                    \"Offset\": 793,\n",
    "                    \"TimeOut\": 7,\n",
    "                    \"Valid\": false,\n",
    "                    \"integerOfSlots\": 1\n",
    "                },\n",
    "                \"3\": {\n",
    "                    \"Increment\": 750,\n",
    "                    \"Offset\": 1400,\n",
    "                    \"TimeOut\": 7,\n",
    "                    \"Valid\": false,\n",
    "                    \"integerOfSlots\": 3\n",
    "                }\n",
    "            },\n",
    "            \"MessageID\": 20,\n",
    "            \"RepeatIndicator\": 0,\n",
    "            \"Spare\": 0,\n",
    "            \"UserID\": 2611270,\n",
    "            \"Valid\": true\n",
    "        }\n",
    "    },\n",
    "    \"MessageType\": \"DataLinkManagementMessage\",\n",
    "    \"MetaData\": {\n",
    "        \"MMSI\": 2611270,\n",
    "        \"MMSI_String\": 2611270,\n",
    "        \"ShipName\": \"\",\n",
    "        \"latitude\": 53.43711333333333,\n",
    "        \"longitude\": 14.583969999999999,\n",
    "        \"time_utc\": \"2024-08-18 23:08:39.819206114 +0000 UTC\"\n",
    "    }\n",
    "}'''\n"
   ]
  },
  {
   "cell_type": "code",
   "execution_count": 31,
   "metadata": {},
   "outputs": [
    {
     "data": {
      "text/plain": [
       "{'Message': {'DataLinkManagementMessage': {'PositionAccuracy': {'0': {'Increment': 750,\n",
       "     'Offset': 784,\n",
       "     'TimeOut': 7,\n",
       "     'Valid': False,\n",
       "     'integerOfSlots': 1},\n",
       "    '1': {'Increment': 1125,\n",
       "     'Offset': 1125,\n",
       "     'TimeOut': 7,\n",
       "     'Valid': False,\n",
       "     'integerOfSlots': 1},\n",
       "    '2': {'Increment': 0,\n",
       "     'Offset': 793,\n",
       "     'TimeOut': 7,\n",
       "     'Valid': False,\n",
       "     'integerOfSlots': 1},\n",
       "    '3': {'Increment': 750,\n",
       "     'Offset': 1400,\n",
       "     'TimeOut': 7,\n",
       "     'Valid': False,\n",
       "     'integerOfSlots': 3}},\n",
       "   'MessageID': 20,\n",
       "   'RepeatIndicator': 0,\n",
       "   'Spare': 0,\n",
       "   'UserID': 2611270,\n",
       "   'Valid': True}},\n",
       " 'MessageType': 'DataLinkManagementMessage',\n",
       " 'MetaData': {'MMSI': 2611270,\n",
       "  'MMSI_String': 2611270,\n",
       "  'ShipName': '',\n",
       "  'latitude': 53.43711333333333,\n",
       "  'longitude': 14.583969999999999,\n",
       "  'time_utc': '2024-08-18 23:08:39.819206114 +0000 UTC'}}"
      ]
     },
     "execution_count": 31,
     "metadata": {},
     "output_type": "execute_result"
    }
   ],
   "source": [
    "import orjson as json \n",
    "\n",
    "x = json.loads(msg_txt)\n",
    "x"
   ]
  },
  {
   "cell_type": "code",
   "execution_count": 32,
   "metadata": {},
   "outputs": [],
   "source": [
    "accuracy = False\n",
    "\n",
    "jsonpath_expr = parse('$..PositionAccuracy')\n",
    "\n",
    "matches = jsonpath_expr.find(x['Message'])\n",
    "if not matches:\n",
    "    accuracy = False\n",
    "else:\n",
    "    try:\n",
    "        accuracy = bool(matches[0])\n",
    "    except:\n",
    "        accuracy = False"
   ]
  },
  {
   "cell_type": "code",
   "execution_count": 33,
   "metadata": {},
   "outputs": [
    {
     "data": {
      "text/plain": [
       "True"
      ]
     },
     "execution_count": 33,
     "metadata": {},
     "output_type": "execute_result"
    }
   ],
   "source": [
    "accuracy"
   ]
  },
  {
   "cell_type": "code",
   "execution_count": 35,
   "metadata": {},
   "outputs": [
    {
     "name": "stdout",
     "output_type": "stream",
     "text": [
      "S2 Cell ID: CellId: 47b1917000000000\n",
      "Center Latitude/Longitude: (53.43731868183478, 10.003187503541543)\n"
     ]
    }
   ],
   "source": [
    "import s2sphere\n",
    "\n",
    "# Define a latitude and longitude\n",
    "latitude = 53.43711333333333\n",
    "longitude = 10.00000000000000\n",
    "\n",
    "# Convert latitude/longitude to an S2 cell ID at a specific level\n",
    "# Level 15 is roughly equivalent to 10-meter resolution\n",
    "cell_id = s2sphere.CellId.from_lat_lng(s2sphere.LatLng.from_degrees(latitude, longitude)).parent(12)\n",
    "\n",
    "# Get the latitude and longitude of the center of the S2 cell\n",
    "lat_lng_center = cell_id.to_lat_lng()\n",
    "\n",
    "print(f\"S2 Cell ID: {cell_id}\")\n",
    "print(f\"Center Latitude/Longitude: ({lat_lng_center.lat().degrees}, {lat_lng_center.lng().degrees})\")\n"
   ]
  },
  {
   "cell_type": "code",
   "execution_count": 42,
   "metadata": {},
   "outputs": [
    {
     "name": "stdout",
     "output_type": "stream",
     "text": [
      "<class 'int'>\n",
      "S2 Cell ID: 5166070156719292416\n",
      "Center Latitude/Longitude: (53.43614949323263, 10.000877345785037)\n"
     ]
    }
   ],
   "source": [
    "import s2sphere\n",
    "\n",
    "# Define a latitude and longitude\n",
    "latitude = 53.43711333333333\n",
    "longitude = 10.00000000000000\n",
    "\n",
    "# Convert latitude/longitude to an S2 cell ID at a specific level\n",
    "# Level 15 is roughly equivalent to 10-meter resolution\n",
    "cell_id = s2sphere.CellId.from_lat_lng(s2sphere.LatLng.from_degrees(latitude, longitude)).parent(15)\n",
    "\n",
    "# Get the latitude and longitude of the center of the S2 cell\n",
    "lat_lng_center = cell_id.to_lat_lng()\n",
    "\n",
    "print(type(cell_id.id()))\n",
    "\n",
    "print(f\"S2 Cell ID: {cell_id.id()}\")\n",
    "print(f\"Center Latitude/Longitude: ({lat_lng_center.lat().degrees}, {lat_lng_center.lng().degrees})\")\n"
   ]
  },
  {
   "cell_type": "code",
   "execution_count": 38,
   "metadata": {},
   "outputs": [
    {
     "name": "stdout",
     "output_type": "stream",
     "text": [
      "H3 Index at resolution 8: 881f153199fffff\n",
      "Center of H3 cell: Latitude = 53.43873858800169, Longitude = 9.999987749926106\n"
     ]
    }
   ],
   "source": [
    "import h3\n",
    "\n",
    "# Define the latitude and longitude\n",
    "latitude = 53.43711333333333\n",
    "longitude = 10.00000000000000\n",
    "\n",
    "# Convert latitude/longitude to an H3 index at resolution 8\n",
    "resolution = 8\n",
    "h3_450m_res8_hex = h3.geo_to_h3(latitude, longitude, resolution)\n",
    "\n",
    "# Convert the H3 index back to latitude/longitude to get the center of the H3 cell\n",
    "center_lat, center_lon = h3.h3_to_geo(h3_index)\n",
    "\n",
    "# Output the H3 index and the center coordinates\n",
    "print(f\"H3 Index at resolution {resolution}: {h3_index}\")\n",
    "print(f\"Center of H3 cell: Latitude = {center_lat}, Longitude = {center_lon}\")"
   ]
  },
  {
   "cell_type": "code",
   "execution_count": null,
   "metadata": {},
   "outputs": [],
   "source": [
    "h3_450m_res8_hex # resolution 8 \n",
    "s2_610m_lvl14_sphere # level 14\n",
    "\n",
    "\n",
    "\n",
    "\n",
    "\n",
    "s2 # better for irregular geography, political areas, eezs, etc\n",
    "h3 # better for visualization and traversing edges\n"
   ]
  },
  {
   "cell_type": "code",
   "execution_count": 11,
   "metadata": {},
   "outputs": [
    {
     "data": {
      "text/plain": [
       "{'PositionReport_Cog': 360,\n",
       " 'PositionReport_CommunicationState': 59916,\n",
       " 'PositionReport_Latitude': 52.54254666666667,\n",
       " 'PositionReport_Longitude': 6.13149,\n",
       " 'PositionReport_MessageID': 3,\n",
       " 'PositionReport_NavigationalStatus': 5,\n",
       " 'PositionReport_PositionAccuracy': True,\n",
       " 'PositionReport_Raim': True,\n",
       " 'PositionReport_RateOfTurn': -128,\n",
       " 'PositionReport_RepeatIndicator': 0,\n",
       " 'PositionReport_Sog': 0,\n",
       " 'PositionReport_Spare': 0,\n",
       " 'PositionReport_SpecialManoeuvreIndicator': 0,\n",
       " 'PositionReport_Timestamp': 15,\n",
       " 'PositionReport_TrueHeading': 511,\n",
       " 'PositionReport_UserID': 244317268,\n",
       " 'PositionReport_Valid': True}"
      ]
     },
     "execution_count": 11,
     "metadata": {},
     "output_type": "execute_result"
    }
   ],
   "source": [
    "from flatten_json import flatten\n",
    "import orjson\n",
    "\n",
    "json = orjson.loads('''\n",
    "{\n",
    "    \"Message\": {\n",
    "        \"PositionReport\": {\n",
    "            \"Cog\": 360,\n",
    "            \"CommunicationState\": 59916,\n",
    "            \"Latitude\": 52.54254666666667,\n",
    "            \"Longitude\": 6.13149,\n",
    "            \"MessageID\": 3,\n",
    "            \"NavigationalStatus\": 5,\n",
    "            \"PositionAccuracy\": true,\n",
    "            \"Raim\": true,\n",
    "            \"RateOfTurn\": -128,\n",
    "            \"RepeatIndicator\": 0,\n",
    "            \"Sog\": 0,\n",
    "            \"Spare\": 0,\n",
    "            \"SpecialManoeuvreIndicator\": 0,\n",
    "            \"Timestamp\": 15,\n",
    "            \"TrueHeading\": 511,\n",
    "            \"UserID\": 244317268,\n",
    "            \"Valid\": true\n",
    "        }\n",
    "    },\n",
    "    \"MessageType\": \"PositionReport\",\n",
    "    \"MetaData\": {\n",
    "        \"MMSI\": 244317268,\n",
    "        \"MMSI_String\": 244317268,\n",
    "        \"ShipName\": \"VERTROUWEN\",\n",
    "        \"latitude\": 52.54254666666667,\n",
    "        \"longitude\": 6.13149,\n",
    "        \"time_utc\": \"2024-08-19 17:50:16.632756341 +0000 UTC\"\n",
    "    }\n",
    "}\n",
    "''')\n",
    "\n",
    "flatten(json['Message'])\n"
   ]
  },
  {
   "cell_type": "markdown",
   "metadata": {},
   "source": []
  },
  {
   "cell_type": "code",
   "execution_count": 27,
   "metadata": {},
   "outputs": [
    {
     "name": "stdout",
     "output_type": "stream",
     "text": [
      "2024-08-19 17:46:57.481183+10:00\n",
      "1724053617.481183\n",
      "2024-08-19T17:46:57.481183+10:00\n"
     ]
    }
   ],
   "source": [
    "from dateutil import parser\n",
    "\n",
    "# date_string = \"2024-08-19 17:46:57.481183349 +0000 UTC\"\n",
    "date_string = \"2024-08-19 17:46:57.481183256 +1000 UTC\"\n",
    "\n",
    "# Remove the +0000 UTC part of the string\n",
    "date_string = date_string[:-4]\n",
    "\n",
    "\n",
    "print(dt)\n",
    "\n",
    "print(dt.timestamp())\n",
    "print(dt.isoformat())"
   ]
  },
  {
   "cell_type": "code",
   "execution_count": 23,
   "metadata": {},
   "outputs": [
    {
     "name": "stdout",
     "output_type": "stream",
     "text": [
      "2024-08-19T11:46:57.481183\n",
      "2024-08-19T16:46:57.481183+00:00\n",
      "2024-08-19 16:46:57.481183 +0000 UTC\n"
     ]
    }
   ],
   "source": [
    "from datetime import datetime, timezone\n",
    "\n",
    "# Given Unix timestamp\n",
    "timestamp = 1724086017.481183\n",
    "dt = datetime.fromtimestamp(timestamp)\n",
    "print(dt.isoformat())\n",
    "# Convert to datetime in UTC\n",
    "dt_utc = datetime.fromtimestamp(timestamp, tz=timezone.utc)\n",
    "print(dt_utc.isoformat())\n",
    "# Format the datetime to \"YYYY-MM-DD HH:MM:SS.ssssss +0000 UTC\"\n",
    "formatted_date_time = dt_utc.strftime('%Y-%m-%d %H:%M:%S.%f %z UTC')\n",
    "\n",
    "print(formatted_date_time)"
   ]
  },
  {
   "cell_type": "code",
   "execution_count": 3,
   "metadata": {},
   "outputs": [],
   "source": [
    "import redis \n",
    "\n",
    "# Initialize Redis client\n",
    "redis_client = redis.StrictRedis(host='localhost', port=6379, db=0)\n"
   ]
  },
  {
   "cell_type": "code",
   "execution_count": 4,
   "metadata": {},
   "outputs": [],
   "source": [
    "def update_redis(mmsi, latitude, longitude):\n",
    "    # Define the key\n",
    "    key = f\"mmsi:{mmsi}\"\n",
    "    \n",
    "    # Define the value (e.g., a serialized JSON or just the position tuple)\n",
    "    value = {\"latitude\": latitude, \"longitude\": longitude}\n",
    "    \n",
    "    # Update Redis with the new position\n",
    "    redis_client.set(key, str(value))\n",
    "    \n",
    "update_redis(\"211555420\",53.52746,8.56646)"
   ]
  },
  {
   "cell_type": "code",
   "execution_count": 7,
   "metadata": {},
   "outputs": [
    {
     "data": {
      "text/plain": [
       "\"{'latitude': 53.52746, 'longitude': 8.56646}\""
      ]
     },
     "execution_count": 7,
     "metadata": {},
     "output_type": "execute_result"
    }
   ],
   "source": [
    "# Read a value from Redis\n",
    "value = redis_client.get(f\"mmsi:211555420\")\n",
    "\n",
    "# Decode the value from bytes to string (optional)\n",
    "if value is not None:\n",
    "    value = value.decode('utf-8')\n",
    "    \n",
    "value"
   ]
  },
  {
   "cell_type": "code",
   "execution_count": 3,
   "metadata": {},
   "outputs": [
    {
     "name": "stdout",
     "output_type": "stream",
     "text": [
      "{228063320: 1, 431014004: 1, 244780738: 1, 247317800: 1, 566583000: 1, 231873000: 1, 235104793: 1, 219015282: 1, 211643790: 2, 338367675: 1, 311321000: 1, 367436230: 1, 244690903: 1, 232025077: 1, 2275070: 1, 219002416: 1, 538004814: 1, 636093241: 1, 212184000: 1, 2053505: 1, 228817100: 1, 211545300: 1, 244396606: 1, 218033420: 1, 574160395: 1, 316052209: 1, 247176300: 1, 244058084: 1, 244780326: 1, 367618310: 1, 413279110: 1, 316020762: 1, 240333100: 1, 244670060: 1, 636018491: 1, 338468375: 1, 413247480: 1, 352001434: 1, 245263000: 1, 2241130: 1, 2241135: 1, 2766140: 1, 238844140: 1, 247163520: 1, 367327920: 1, 227729710: 1, 338242118: 1, 215000887: 1, 352001599: 1, 316014550: 1, 244650223: 1, 2655069: 1, 244700935: 1, 230992670: 1, 366235000: 1, 271052266: 1, 209348000: 1, 503070250: 1, 338037824: 1, 311040900: 1, 211122000: 1, 211181370: 3, 265653620: 1, 265811800: 1, 256036000: 1, 219000581: 1, 244150566: 1, 368119580: 1, 2014012: 1, 277465000: 1, 620998000: 1, 211437190: 1, 211843850: 1, 677036300: 1, 249127000: 1, 636019395: 1, 368081880: 1, 416484000: 1, 2320061: 6, 275031000: 1, 244660242: 1, 244820056: 1, 636015762: 1, 605106432: 1, 225457000: 1, 227016900: 1, 319110300: 1, 257514000: 1, 257784820: 1, 2655105: 1, 338149263: 1, 244670907: 1, 367684350: 1, 244138406: 1, 211518240: 3, 244700538: 1, 276869000: 1, 319070500: 1, 316006722: 1, 316042225: 1, 563036120: 1, 211709370: 1, 368027230: 1, 367789480: 1, 316005998: 1, 215564000: 1, 244650941: 1, 470601000: 1, 265624900: 1, 338310285: 1, 219024937: 1, 2241148: 1, 3669987: 1, 367047270: 1, 368023630: 1, 366999414: 1, 244672784: 1, 710001520: 1, 244210931: 1, 477760800: 1, 228187040: 1, 431003749: 1, 503053380: 1, 219038000: 1, 211591100: 1, 354540000: 1, 244780254: 1, 355209000: 1, 227749270: 1, 235016047: 1, 269057010: 1, 2320025: 1, 710011210: 1, 231846000: 1, 244740334: 1, 225995317: 1, 3160029: 1, 311945000: 1, 265602760: 1, 235107824: 1, 338362277: 1, 257218500: 1, 227441270: 1, 257654700: 1, 477001100: 1, 2300051: 1, 338310483: 1, 2190048: 1, 503080350: 1, 224634000: 1, 457378000: 1, 2766100: 1, 247167600: 1, 717854474: 1, 211111110: 1, 710004312: 1, 218016670: 1, 477937300: 1, 269057695: 1, 368139980: 1, 244730608: 1, 338416401: 1, 273257910: 1, 235112742: 1, 316043105: 1, 235101024: 1}\n"
     ]
    }
   ],
   "source": [
    "import json\n",
    "from collections import defaultdict\n",
    "\n",
    "def count_messages_by_mmsi_from_file(file_path):\n",
    "    # Dictionary to store the count of messages by MMSI\n",
    "    mmsi_counts = defaultdict(int)\n",
    "    \n",
    "    # Read the entire JSON array from the file\n",
    "    with open(file_path, 'r') as file:\n",
    "        data = json.load(file)\n",
    "    \n",
    "    # Iterate over each message in the payload\n",
    "    for entry in data:\n",
    "        # Extract MMSI from the MetaData field\n",
    "        mmsi = entry.get('MetaData', {}).get('MMSI')\n",
    "        if mmsi:\n",
    "            mmsi_counts[mmsi] += 1\n",
    "    \n",
    "    return dict(mmsi_counts)\n",
    "\n",
    "# File path to the JSON file\n",
    "file_path = 'data_examples/streamio.json'\n",
    "\n",
    "# Call the function and print the result\n",
    "mmsi_counts = count_messages_by_mmsi_from_file(file_path)\n",
    "print(mmsi_counts)\n"
   ]
  },
  {
   "cell_type": "code",
   "execution_count": 4,
   "metadata": {},
   "outputs": [
    {
     "name": "stdout",
     "output_type": "stream",
     "text": [
      "          MMSI              ShipName   Latitude   Longitude  \\\n",
      "0    228063320             BEL'KREOL  47.486443   -3.102380   \n",
      "1    431014004  FERRY I               34.182810  135.045073   \n",
      "2    244780738            BOATMAN4    52.464580    4.589500   \n",
      "3    247317800  SAN GENNARO PRIMO     44.401112    8.903330   \n",
      "4    566583000  HAFNIA SOYA           36.071033   -3.781693   \n",
      "..         ...                   ...        ...         ...   \n",
      "171  338416401        KINDRED SPIRIT  27.499592  -82.572492   \n",
      "172  273257910  KARELIYA              43.078290  132.039708   \n",
      "173  235112742       NEPTUNE CLIPPER  51.483850   -0.010000   \n",
      "174  316043105              RHAPSODY  48.451807 -123.294107   \n",
      "175  235101024  MONOKINI              37.913557   23.704405   \n",
      "\n",
      "                                   Timestamp                   MessageType  \n",
      "0    2024-08-28 15:52:26.243053646 +0000 UTC  StandardClassBPositionReport  \n",
      "1    2024-08-28 15:52:26.243540476 +0000 UTC                PositionReport  \n",
      "2     2024-08-28 15:52:26.24392765 +0000 UTC                PositionReport  \n",
      "3    2024-08-28 15:52:26.244223343 +0000 UTC                PositionReport  \n",
      "4    2024-08-28 15:52:26.244541178 +0000 UTC                PositionReport  \n",
      "..                                       ...                           ...  \n",
      "171  2024-08-28 15:52:26.489946558 +0000 UTC  StandardClassBPositionReport  \n",
      "172  2024-08-28 15:52:26.490184483 +0000 UTC                ShipStaticData  \n",
      "173  2024-08-28 15:52:26.490438648 +0000 UTC        AddressedBinaryMessage  \n",
      "174  2024-08-28 15:52:26.490665802 +0000 UTC  StandardClassBPositionReport  \n",
      "175  2024-08-28 15:52:26.490915018 +0000 UTC                PositionReport  \n",
      "\n",
      "[176 rows x 6 columns]\n"
     ]
    }
   ],
   "source": [
    "import json\n",
    "import pandas as pd\n",
    "\n",
    "def load_json_to_dataframe(file_path):\n",
    "    # Read the JSON data from the file\n",
    "    with open(file_path, 'r') as file:\n",
    "        data = json.load(file)\n",
    "    \n",
    "    # Extract relevant information into a list of dictionaries\n",
    "    records = []\n",
    "    for entry in data:\n",
    "        message_type = entry.get('MessageType')\n",
    "        mmsi = entry.get('MetaData', {}).get('MMSI')\n",
    "        ship_name = entry.get('MetaData', {}).get('ShipName')\n",
    "        latitude = entry.get('MetaData', {}).get('latitude')\n",
    "        longitude = entry.get('MetaData', {}).get('longitude')\n",
    "        timestamp = entry.get('MetaData', {}).get('time_utc')\n",
    "        # Add more fields as needed\n",
    "        \n",
    "        # Create a flat dictionary for each entry\n",
    "        record = {\n",
    "            'MMSI': mmsi,\n",
    "            'ShipName': ship_name,\n",
    "            'Latitude': latitude,\n",
    "            'Longitude': longitude,\n",
    "            'Timestamp': timestamp,\n",
    "            'MessageType': message_type,\n",
    "            # Add more fields from the Message if needed\n",
    "        }\n",
    "        records.append(record)\n",
    "    \n",
    "    # Load the list of dictionaries into a DataFrame\n",
    "    df = pd.DataFrame(records)\n",
    "    \n",
    "    return df\n",
    "\n",
    "# File path to the JSON file\n",
    "file_path = 'data_examples/streamio.json'\n",
    "\n",
    "# Load the data into a DataFrame and display it\n",
    "df = load_json_to_dataframe(file_path)\n",
    "print(df)\n"
   ]
  },
  {
   "cell_type": "code",
   "execution_count": 9,
   "metadata": {},
   "outputs": [
    {
     "name": "stdout",
     "output_type": "stream",
     "text": [
      "DataFrame of Kafka messages:\n",
      "          MMSI              ShipName   Latitude   Longitude  \\\n",
      "0    259212000                FJON-M  60.807407    5.308392   \n",
      "1    259204000  RO WEST               62.374327    6.034628   \n",
      "2    257922000  JULIE PAULINE         70.668500   30.682023   \n",
      "3    257124170              TAARNVIK  67.572973   15.125415   \n",
      "4    257269600                  LYNA  60.356583    5.159840   \n",
      "..         ...                   ...        ...         ...   \n",
      "603  368146020              TARKA II  50.213790 -125.003832   \n",
      "604    2320025                        51.935867    1.318288   \n",
      "605  319088200           SILENTWORLD  22.291587  114.026265   \n",
      "606  338855000  PACIFC TITAN          49.688883 -124.767700   \n",
      "607  244700802             SANSTOARM  53.022173    5.690567   \n",
      "\n",
      "                                   Timestamp                   MessageType  \n",
      "0     2024-08-28 17:07:14.09906441 +0000 UTC                ShipStaticData  \n",
      "1     2024-08-28 17:07:14.09946625 +0000 UTC                PositionReport  \n",
      "2     2024-08-28 17:07:14.09974994 +0000 UTC                ShipStaticData  \n",
      "3    2024-08-28 17:07:14.100062705 +0000 UTC                PositionReport  \n",
      "4    2024-08-28 17:07:14.100387982 +0000 UTC                PositionReport  \n",
      "..                                       ...                           ...  \n",
      "603  2024-08-28 17:07:15.095134143 +0000 UTC  StandardClassBPositionReport  \n",
      "604  2024-08-28 17:07:15.094625292 +0000 UTC           AssignedModeCommand  \n",
      "605  2024-08-28 17:07:15.095417231 +0000 UTC                PositionReport  \n",
      "606  2024-08-28 17:07:15.095653122 +0000 UTC                PositionReport  \n",
      "607  2024-08-28 17:07:15.095902609 +0000 UTC                PositionReport  \n",
      "\n",
      "[608 rows x 6 columns]\n",
      "\n",
      "Reports by MMSI:\n",
      "          MMSI  ReportCount\n",
      "0      2241132            2\n",
      "1      2241138            2\n",
      "2      2241148            1\n",
      "3      2268120            3\n",
      "4      2275205            1\n",
      "..         ...          ...\n",
      "530  992614114            1\n",
      "531  993672350            1\n",
      "532  993682781            1\n",
      "533  995036092            1\n",
      "534  997011082            1\n",
      "\n",
      "[535 rows x 2 columns]\n"
     ]
    }
   ],
   "source": [
    "from confluent_kafka import Consumer, KafkaError\n",
    "import pandas as pd\n",
    "import orjson as json\n",
    "from uuid import uuid4\n",
    "\n",
    "def consume_kafka_messages(consumer, num_messages=4):\n",
    "    messages = []\n",
    "    \n",
    "    while len(messages) < num_messages:\n",
    "        msg = consumer.poll(timeout=1.0)\n",
    "        \n",
    "        if msg is None:\n",
    "            continue\n",
    "        \n",
    "        if msg.error():\n",
    "            if msg.error().code() == KafkaError._PARTITION_EOF:\n",
    "                continue\n",
    "            else:\n",
    "                print(msg.error())\n",
    "                break\n",
    "        \n",
    "        # Parse the message value (assuming it's JSON)\n",
    "        try:\n",
    "            message_value = json.loads(msg.value().decode('utf-8'))\n",
    "            messages.append(message_value)\n",
    "        except json.JSONDecodeError as e:\n",
    "            print(f\"Failed to decode JSON: {e}\")\n",
    "    \n",
    "    return messages\n",
    "\n",
    "def process_kafka_event(event):\n",
    "    records = []\n",
    "    for entry in event:\n",
    "        message_type = entry.get('MessageType')\n",
    "        mmsi = entry.get('MetaData', {}).get('MMSI')\n",
    "        ship_name = entry.get('MetaData', {}).get('ShipName')\n",
    "        latitude = entry.get('MetaData', {}).get('latitude')\n",
    "        longitude = entry.get('MetaData', {}).get('longitude')\n",
    "        timestamp = entry.get('MetaData', {}).get('time_utc')\n",
    "        \n",
    "        # Create a flat dictionary for each entry\n",
    "        record = {\n",
    "            'MMSI': mmsi,\n",
    "            'ShipName': ship_name,\n",
    "            'Latitude': latitude,\n",
    "            'Longitude': longitude,\n",
    "            'Timestamp': timestamp,\n",
    "            'MessageType': message_type,\n",
    "            # Add more fields from the Message if needed\n",
    "        }\n",
    "        records.append(record)\n",
    "    \n",
    "    return records\n",
    "\n",
    "def load_messages_to_dataframe(messages):\n",
    "    all_records = []\n",
    "    \n",
    "    for message in messages:\n",
    "        records = process_kafka_event(message)\n",
    "        all_records.extend(records)\n",
    "    \n",
    "    df = pd.DataFrame(all_records)\n",
    "    return df\n",
    "\n",
    "def list_reports_by_mmsi(df):\n",
    "    grouped = df.groupby('MMSI').size().reset_index(name='ReportCount')\n",
    "    return grouped\n",
    "\n",
    "# Kafka consumer configuration\n",
    "consumer_config = {\n",
    "    'bootstrap.servers': 'localhost:19092',\n",
    "    'group.id': f'my-consumer-group-{uuid4()}',\n",
    "    'auto.offset.reset': 'latest'\n",
    "}\n",
    "\n",
    "consumer = Consumer(consumer_config)\n",
    "consumer.subscribe(['raw_maritime_streamio'])\n",
    "\n",
    "try:\n",
    "    # Consume 4 messages from Kafka\n",
    "    kafka_messages = consume_kafka_messages(consumer, num_messages=4)\n",
    "    \n",
    "    # Load messages into a DataFrame\n",
    "    df = load_messages_to_dataframe(kafka_messages)\n",
    "    print(\"DataFrame of Kafka messages:\")\n",
    "    print(df)\n",
    "    \n",
    "    # List reports by MMSI\n",
    "    reports_by_mmsi = list_reports_by_mmsi(df)\n",
    "    print(\"\\nReports by MMSI:\")\n",
    "    print(reports_by_mmsi)\n",
    "finally:\n",
    "    # Close the Kafka consumer\n",
    "    consumer.close()\n"
   ]
  },
  {
   "cell_type": "code",
   "execution_count": 12,
   "metadata": {},
   "outputs": [
    {
     "data": {
      "text/plain": [
       "608"
      ]
     },
     "execution_count": 12,
     "metadata": {},
     "output_type": "execute_result"
    }
   ],
   "source": [
    "len(df['MMSI'])"
   ]
  },
  {
   "cell_type": "code",
   "execution_count": 2,
   "metadata": {},
   "outputs": [
    {
     "data": {
      "text/plain": [
       "{'Message': {'StandardClassBPositionReport': {'AssignedMode': False,\n",
       "   'ClassBBand': True,\n",
       "   'ClassBDisplay': False,\n",
       "   'ClassBDsc': True,\n",
       "   'ClassBMsg22': True,\n",
       "   'ClassBUnit': True,\n",
       "   'Cog': 360,\n",
       "   'CommunicationState': 393222,\n",
       "   'CommunicationStateIsItdma': True,\n",
       "   'Latitude': 47.486443333333334,\n",
       "   'Longitude': -3.1023799999999997,\n",
       "   'MessageID': 18,\n",
       "   'PositionAccuracy': False,\n",
       "   'Raim': False,\n",
       "   'RepeatIndicator': 0,\n",
       "   'Sog': 0,\n",
       "   'Spare1': 0,\n",
       "   'Spare2': 0,\n",
       "   'Timestamp': 23,\n",
       "   'TrueHeading': 511,\n",
       "   'UserID': 228063320,\n",
       "   'Valid': True}},\n",
       " 'MessageType': 'StandardClassBPositionReport',\n",
       " 'MMSI': 228063320,\n",
       " 'MMSI_String': 228063320,\n",
       " 'ShipName': \"BEL'KREOL\",\n",
       " 'latitude': 47.486443333333334,\n",
       " 'longitude': -3.1023799999999997,\n",
       " 'time_utc': '2024-08-28 15:52:26.243053646 +0000 UTC'}"
      ]
     },
     "execution_count": 2,
     "metadata": {},
     "output_type": "execute_result"
    }
   ],
   "source": [
    "# Original message\n",
    "message = {\n",
    "    \"Message\": {\n",
    "        \"StandardClassBPositionReport\": {\n",
    "            \"AssignedMode\": False,\n",
    "            \"ClassBBand\": True,\n",
    "            \"ClassBDisplay\": False,\n",
    "            \"ClassBDsc\": True,\n",
    "            \"ClassBMsg22\": True,\n",
    "            \"ClassBUnit\": True,\n",
    "            \"Cog\": 360,\n",
    "            \"CommunicationState\": 393222,\n",
    "            \"CommunicationStateIsItdma\": True,\n",
    "            \"Latitude\": 47.486443333333334,\n",
    "            \"Longitude\": -3.1023799999999997,\n",
    "            \"MessageID\": 18,\n",
    "            \"PositionAccuracy\": False,\n",
    "            \"Raim\": False,\n",
    "            \"RepeatIndicator\": 0,\n",
    "            \"Sog\": 0,\n",
    "            \"Spare1\": 0,\n",
    "            \"Spare2\": 0,\n",
    "            \"Timestamp\": 23,\n",
    "            \"TrueHeading\": 511,\n",
    "            \"UserID\": 228063320,\n",
    "            \"Valid\": True\n",
    "        }\n",
    "    },\n",
    "    \"MessageType\": \"StandardClassBPositionReport\",\n",
    "    \"MetaData\": {\n",
    "        \"MMSI\": 228063320,\n",
    "        \"MMSI_String\": 228063320,\n",
    "        \"ShipName\": \"BEL'KREOL\",\n",
    "        \"latitude\": 47.486443333333334,\n",
    "        \"longitude\": -3.1023799999999997,\n",
    "        \"time_utc\": \"2024-08-28 15:52:26.243053646 +0000 UTC\"\n",
    "    }\n",
    "}\n",
    "\n",
    "# Move MetaData to the top level\n",
    "message.update(message.pop(\"MetaData\"))\n",
    "\n",
    "# Output the updated message\n",
    "message\n"
   ]
  },
  {
   "cell_type": "code",
   "execution_count": null,
   "metadata": {},
   "outputs": [],
   "source": []
  }
 ],
 "metadata": {
  "kernelspec": {
   "display_name": "osint",
   "language": "python",
   "name": "python3"
  },
  "language_info": {
   "codemirror_mode": {
    "name": "ipython",
    "version": 3
   },
   "file_extension": ".py",
   "mimetype": "text/x-python",
   "name": "python",
   "nbconvert_exporter": "python",
   "pygments_lexer": "ipython3",
   "version": "3.10.14"
  }
 },
 "nbformat": 4,
 "nbformat_minor": 2
}
